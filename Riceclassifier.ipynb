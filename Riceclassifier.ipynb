{
  "nbformat": 4,
  "nbformat_minor": 0,
  "metadata": {
    "colab": {
      "provenance": []
    },
    "kernelspec": {
      "name": "python3",
      "display_name": "Python 3"
    },
    "language_info": {
      "name": "python"
    },
    "accelerator": "GPU"
  },
  "cells": [
    {
      "cell_type": "markdown",
      "source": [
        "This code is a rice grain classification which was created as a requirement to enroll in the subject Business Challenge, an elective course to physicals of last semesters in University of Andes, Bogota-Colombia."
      ],
      "metadata": {
        "id": "rYNPudKfjKDY"
      }
    },
    {
      "cell_type": "code",
      "execution_count": 2,
      "metadata": {
        "id": "SYuz_0CQTdAy"
      },
      "outputs": [],
      "source": [
        "import tensorflow as tf\n",
        "import os\n",
        "import zipfile\n",
        "import random\n",
        "import numpy as np\n",
        "import pandas as pd\n",
        "import matplotlib.pyplot as plt\n",
        "import torch\n",
        "from PIL import Image\n",
        "import cv2\n",
        "import zipfile\n",
        "import pandas as pd\n",
        "import io\n"
      ]
    },
    {
      "cell_type": "code",
      "source": [
        " !git clone https://github.com/NetworkAI-UniAndes/classification-exam-fisi-3650.git"
      ],
      "metadata": {
        "id": "18LxMhtbcOBl",
        "colab": {
          "base_uri": "https://localhost:8080/"
        },
        "outputId": "569194e7-db06-41e8-bfe6-c358c32160c9"
      },
      "execution_count": 3,
      "outputs": [
        {
          "output_type": "stream",
          "name": "stdout",
          "text": [
            "Cloning into 'classification-exam-fisi-3650'...\n",
            "remote: Enumerating objects: 59724, done.\u001b[K\n",
            "remote: Counting objects: 100% (4/4), done.\u001b[K\n",
            "remote: Compressing objects: 100% (4/4), done.\u001b[K\n",
            "remote: Total 59724 (delta 0), reused 3 (delta 0), pack-reused 59720\u001b[K\n",
            "Receiving objects: 100% (59724/59724), 162.83 MiB | 31.65 MiB/s, done.\n",
            "Resolving deltas: 100% (5/5), done.\n",
            "Checking out files: 100% (60012/60012), done.\n"
          ]
        }
      ]
    },
    {
      "cell_type": "markdown",
      "source": [
        "Here we load test images,  reduce their size to (80,80)px and save them in an array.\n",
        "\n"
      ],
      "metadata": {
        "id": "eWaSIxovk8rL"
      }
    },
    {
      "cell_type": "code",
      "source": [
        "#function to get a data frame of test images (This function was provided by the evaluator)\n",
        "def load_test_paths(base_path):\n",
        "    label_dict={'Arborio':0,'basmati':1,'Ipsala':2,'Jasmine':3,'Karacadag':4}\n",
        "    filenames = os.walk(base_path)\n",
        "    files=list(filenames)[0][2]\n",
        "    files=[file for file in files if file.endswith(\".jpg\")]\n",
        "    labels=[label_dict[file.split(' ')[0]] for file in files]\n",
        "    file_df=pd.DataFrame({\"file\":files,\"label\":labels})\n",
        "    file_df[\"file\"]=file_df.file.map(lambda x: os.path.join(base_path,x))\n",
        "    return file_df\n",
        "df_test=load_test_paths(\"/content/classification-exam-fisi-3650/Rice_Image_Dataset/Test\")\n",
        "imagenes=df_test[\"file\"]\n",
        "labels=df_test[\"label\"]\n",
        "class_names = ['Arborio','basmati','Ipsala','Jasmine','Karacadag']\n",
        "images_test=[]\n",
        "labels_test=np.zeros(len(imagenes)).astype(\"uint8\")\n",
        "iter=0\n",
        "#This for reduce the shape of the image and add it into array\n",
        "for x,y in zip(imagenes,labels):\n",
        "  images_test.append(np.array(cv2.resize(cv2.imread(x),(80,80)).astype(\"uint8\")))\n",
        "  labels_test[iter]=y\n",
        "  iter=iter+1\n",
        "images_test=np.array(images_test)\n",
        "plt.imshow(images_test[4])\n",
        "plt.title(class_names[int(labels_test[4])])\n",
        "np.shape(images_test)"
      ],
      "metadata": {
        "id": "n7o3Mu9jUffJ",
        "colab": {
          "base_uri": "https://localhost:8080/",
          "height": 298
        },
        "outputId": "2ba34b25-ee80-4b0a-8825-c07787f30873"
      },
      "execution_count": 4,
      "outputs": [
        {
          "output_type": "execute_result",
          "data": {
            "text/plain": [
              "(10000, 80, 80, 3)"
            ]
          },
          "metadata": {},
          "execution_count": 4
        },
        {
          "output_type": "display_data",
          "data": {
            "text/plain": [
              "<Figure size 432x288 with 1 Axes>"
            ],
            "image/png": "[encoded data removed]"
          },
          "metadata": {
            "needs_background": "light"
          }
        }
      ]
    },
    {
      "cell_type": "markdown",
      "source": [
        "Here we load test images,  reduce their size to (80,80)px and save them in an array."
      ],
      "metadata": {
        "id": "oaxu3v2_YBXc"
      }
    },
    {
      "cell_type": "code",
      "source": [
        "df_train1=load_test_paths(\"/content/classification-exam-fisi-3650/Rice_Image_Dataset/Train/Arborio\")\n",
        "df_train2=load_test_paths(\"/content/classification-exam-fisi-3650/Rice_Image_Dataset/Train/Basmati\")\n",
        "df_train3=load_test_paths(\"/content/classification-exam-fisi-3650/Rice_Image_Dataset/Train/Ipsala\")\n",
        "df_train4=load_test_paths(\"/content/classification-exam-fisi-3650/Rice_Image_Dataset/Train/Jasmine\")\n",
        "df_train5=load_test_paths(\"/content/classification-exam-fisi-3650/Rice_Image_Dataset/Train/Karacadag\")\n",
        "images_train=[]\n",
        "labels_train=[]\n",
        "\n",
        "for df in [df_train1,df_train2,df_train3,df_train4,df_train5]:\n",
        "  imagenes=df[\"file\"]\n",
        "  labels=df[\"label\"]\n",
        "  #This for reduce the shape of the image and add it into array\n",
        "  for x,y in zip(imagenes,labels):\n",
        "    images_train.append(np.array(cv2.resize(cv2.imread(x),(80,80))).astype(\"uint8\"))\n",
        "    labels_train.append(y)\n",
        "images_train=np.array(images_train)\n",
        "labels_train=np.array(labels_train)\n",
        "plt.imshow(images_train[4])\n",
        "plt.title(class_names[int(labels_train[4])])\n",
        "np.shape(images_train)"
      ],
      "metadata": {
        "id": "WuIOuCGMX8TT",
        "colab": {
          "base_uri": "https://localhost:8080/",
          "height": 298
        },
        "outputId": "6af86d96-0a45-4f89-b173-7e6b546901c8"
      },
      "execution_count": 5,
      "outputs": [
        {
          "output_type": "execute_result",
          "data": {
            "text/plain": [
              "(50000, 80, 80, 3)"
            ]
          },
          "metadata": {},
          "execution_count": 5
        },
        {
          "output_type": "display_data",
          "data": {
            "text/plain": [
              "<Figure size 432x288 with 1 Axes>"
            ],
            "image/png": "[encoded data removed]"
          },
          "metadata": {
            "needs_background": "light"
          }
        }
      ]
    },
    {
      "cell_type": "markdown",
      "source": [
        "We transform data from float array to int array"
      ],
      "metadata": {
        "id": "-GY1wIlh0pT4"
      }
    },
    {
      "cell_type": "code",
      "source": [
        "labels_train=labels_train.astype(int)\n",
        "labels_test=labels_test.astype(int)\n",
        "print(labels_test, labels_train)"
      ],
      "metadata": {
        "id": "2LZGirZwXnMg",
        "colab": {
          "base_uri": "https://localhost:8080/"
        },
        "outputId": "16b08a5a-f6bd-49f2-c8a2-ae5eacad9d36"
      },
      "execution_count": 7,
      "outputs": [
        {
          "output_type": "stream",
          "name": "stdout",
          "text": [
            "[0 0 1 ... 1 3 1] [0 0 0 ... 4 4 4]\n"
          ]
        }
      ]
    },
    {
      "cell_type": "markdown",
      "source": [
        "Here we define the architecture of the CNN, the number of epochs and train the model."
      ],
      "metadata": {
        "id": "5WqycwcOn9Zq"
      }
    },
    {
      "cell_type": "code",
      "source": [
        "from tensorflow.keras.callbacks import TensorBoard\n",
        "Model1=tf.keras.models.Sequential([\n",
        "                                   \n",
        "    tf.keras.layers.Conv2D(32,(3,3), activation=\"relu\", input_shape=(80,80,3)),\n",
        "    tf.keras.layers.MaxPooling2D((2, 2)),\n",
        "    tf.keras.layers.Conv2D(64, (3, 3), activation='relu'),\n",
        "    tf.keras.layers.MaxPooling2D((2, 2)),\n",
        "    tf.keras.layers.Conv2D(128, (3, 3), activation='relu'),\n",
        "    tf.keras.layers.MaxPooling2D((2, 2)),\n",
        "    tf.keras.layers.Dropout(0.4),\n",
        "    tf.keras.layers.Flatten(),\n",
        "    tf.keras.layers.Dense(100, activation=\"relu\"),\n",
        "    tf.keras.layers.Dense(5, activation=\"softmax\")\n",
        "\n",
        "])\n",
        "Model1.compile(optimizer='adam',\n",
        "              loss=tf.keras.losses.SparseCategoricalCrossentropy(from_logits=True),\n",
        "              metrics=['accuracy'])\n",
        "tensorboardDenso = TensorBoard(log_dir='logs/denso')\n",
        "\n",
        "Model1.fit(images_train, labels_train, epochs=5)"
      ],
      "metadata": {
        "id": "sGWC6VGmkby_",
        "colab": {
          "base_uri": "https://localhost:8080/"
        },
        "outputId": "010769d3-3e84-4302-f36b-591b31620674"
      },
      "execution_count": 8,
      "outputs": [
        {
          "output_type": "stream",
          "name": "stdout",
          "text": [
            "Epoch 1/5\n"
          ]
        },
        {
          "output_type": "stream",
          "name": "stderr",
          "text": [
            "/usr/local/lib/python3.7/dist-packages/tensorflow/python/util/dispatch.py:1082: UserWarning: \"`sparse_categorical_crossentropy` received `from_logits=True`, but the `output` argument was produced by a sigmoid or softmax activation and thus does not represent logits. Was this intended?\"\n",
            "  return dispatch_target(*args, **kwargs)\n"
          ]
        },
        {
          "output_type": "stream",
          "name": "stdout",
          "text": [
            "1563/1563 [==============================] - 22s 9ms/step - loss: 0.4088 - accuracy: 0.9542\n",
            "Epoch 2/5\n",
            "1563/1563 [==============================] - 13s 9ms/step - loss: 0.0697 - accuracy: 0.9763\n",
            "Epoch 3/5\n",
            "1563/1563 [==============================] - 13s 8ms/step - loss: 0.0542 - accuracy: 0.9817\n",
            "Epoch 4/5\n",
            "1563/1563 [==============================] - 13s 8ms/step - loss: 0.0456 - accuracy: 0.9854\n",
            "Epoch 5/5\n",
            "1563/1563 [==============================] - 13s 8ms/step - loss: 0.0373 - accuracy: 0.9884\n"
          ]
        },
        {
          "output_type": "execute_result",
          "data": {
            "text/plain": [
              "<keras.callbacks.History at 0x7f19fcf1bed0>"
            ]
          },
          "metadata": {},
          "execution_count": 8
        }
      ]
    },
    {
      "cell_type": "markdown",
      "source": [
        "We evaluate the model who have an accuracy of 96.81%"
      ],
      "metadata": {
        "id": "JQDS9-LD1Y9O"
      }
    },
    {
      "cell_type": "code",
      "source": [
        "Model1.evaluate(\n",
        "    x=images_test,\n",
        "    y=labels_test,\n",
        "    batch_size=32,\n",
        "    verbose='auto',\n",
        "    sample_weight=None,\n",
        "    steps=None,\n",
        "    callbacks=None,\n",
        "    max_queue_size=10,\n",
        "    workers=1,\n",
        "    use_multiprocessing=False,\n",
        "    return_dict=False,\n",
        ")"
      ],
      "metadata": {
        "id": "bhD-9sd9p77B",
        "colab": {
          "base_uri": "https://localhost:8080/"
        },
        "outputId": "8a665be9-ded7-4e9b-c1ff-0f1d1fa7c830"
      },
      "execution_count": 9,
      "outputs": [
        {
          "output_type": "stream",
          "name": "stdout",
          "text": [
            "313/313 [==============================] - 2s 5ms/step - loss: 0.3220 - accuracy: 0.9681\n"
          ]
        },
        {
          "output_type": "execute_result",
          "data": {
            "text/plain": [
              "[0.32200008630752563, 0.9681000113487244]"
            ]
          },
          "metadata": {},
          "execution_count": 9
        }
      ]
    }
  ]
}